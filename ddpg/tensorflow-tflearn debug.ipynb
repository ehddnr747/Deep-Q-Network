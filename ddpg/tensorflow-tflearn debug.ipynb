{
 "cells": [
  {
   "cell_type": "code",
   "execution_count": null,
   "metadata": {},
   "outputs": [],
   "source": [
    "import tflearn\n",
    "import tensorflow as tf\n",
    "\n",
    "class Actor(object):\n",
    "\n",
    "    def __init__(self, sess, state_dim, action_dim,learning_rate, tau, batch_size):\n",
    "\n",
    "        #the length of state dim might be 1 or 3(height,width,channels)\n",
    "\n",
    "        self.sess = sess\n",
    "        self.state_dim = state_dim\n",
    "        self.action_dim = action_dim\n",
    "        self.learning_rate = learning_rate\n",
    "        self.tau = tau\n",
    "        self.batch_size = batch_size\n",
    "\n",
    "        self.inputs, self.out = self.create_actor_network()\n",
    "\n",
    "        self.network_params = tf.trainable_variables()\n",
    "\n",
    "        self.target_inputs, self.target_out = self.create_actor_network()\n",
    "\n",
    "        self.target_network_params = tf.trainable_variables()[len(self.network_params):]\n",
    "\n",
    "        self.update_target_network_params = \\\n",
    "            [self.target_network_params[i].assign(tf.multiply(self.network_params[i], self.tau)) +\\\n",
    "                                        tf.multiply(self.target_network_params[i],1. - self.tau) \\\n",
    "                for i in range(len(self.target_network_params))]\n",
    "\n",
    "        self.initialize_target_network_params = \\\n",
    "            [self.target_network_params[i].assign(self.network_params[i])\n",
    "             for i in range(len(self.target_network_params))]\n",
    "\n",
    "        self.action_gradient = tf.placeholder(tf.float32, [None, self.action_dim])\n",
    "\n",
    "        self.actor_gradients = list(\n",
    "            map(lambda x:tf.div(x,self.batch_size),\n",
    "                tf.gradients(self.out, self.network_params, -self.action_gradient)\n",
    "                ))\n",
    "\n",
    "\n",
    "        self.optimize = tf.train.AdamOptimizer(self.learning_rate).\\\n",
    "            apply_gradients(zip(self.actor_gradients,self.network_params))\n",
    "\n",
    "        self.num_trainable_vars = len(self.network_params) + len(self.target_network_params)\n",
    "\n",
    "    def create_actor_network(self):\n",
    "\n",
    "        if len(self.state_dim) == 1:\n",
    "            \n",
    "            inputs = tflearn.input_data(shape=[None, *self.state_dim])\n",
    "            net = tflearn.fully_connected(inputs, 400,weight_decay=0.0)\n",
    "            net = tflearn.activations.relu(net)\n",
    "            net = tflearn.fully_connected(net,300, weight_decay=0.0)\n",
    "            net = tflearn.activations.relu(net)\n",
    "\n",
    "            w_init = tflearn.initializations.uniform(minval=-0.003,maxval=0.003)\n",
    "\n",
    "            out = tflearn.fully_connected(net, self.action_dim, activation='tanh', \\\n",
    "                                          weights_init=w_init, weight_decay=0.0)\n",
    "\n",
    "            return inputs, out\n",
    "\n",
    "\n",
    "        else:\n",
    "            assert 1 == 0, \"wrong state dim input\"\n",
    "\n",
    "\n",
    "    def train(self, inputs, a_gradient):\n",
    "        self.sess.run(self.optimize, feed_dict ={\n",
    "            self.inputs: inputs,\n",
    "            self.action_gradient: a_gradient\n",
    "        })\n",
    "\n",
    "    def predict(self, inputs):\n",
    "        return self.sess.run(self.out, feed_dict={\n",
    "            self.inputs: inputs\n",
    "        })\n",
    "\n",
    "    def predict_target(self, inputs):\n",
    "        return self.sess.run(self.target_out, feed_dict={\n",
    "            self.target_inputs: inputs\n",
    "        })\n",
    "\n",
    "    def update_target_network(self):\n",
    "        self.sess.run(self.update_target_network_params)\n",
    "\n",
    "    def get_num_trainable_vars(self):\n",
    "        return self.num_trainable_vars\n",
    "\n",
    "    def initialize_target(self):\n",
    "        self.sess.run(self.initialize_target_network_params)"
   ]
  },
  {
   "cell_type": "code",
   "execution_count": 1,
   "metadata": {},
   "outputs": [],
   "source": [
    "import tflearn"
   ]
  },
  {
   "cell_type": "code",
   "execution_count": 5,
   "metadata": {},
   "outputs": [],
   "source": [
    "import numpy as np"
   ]
  },
  {
   "cell_type": "code",
   "execution_count": null,
   "metadata": {},
   "outputs": [],
   "source": [
    "tflearn.initializations.uniform()"
   ]
  },
  {
   "cell_type": "code",
   "execution_count": 2,
   "metadata": {},
   "outputs": [],
   "source": [
    "import tensorflow as tf"
   ]
  },
  {
   "cell_type": "code",
   "execution_count": 11,
   "metadata": {},
   "outputs": [
    {
     "data": {
      "text/plain": [
       "<tf.Tensor 'Sum_2:0' shape=() dtype=int32>"
      ]
     },
     "execution_count": 11,
     "metadata": {},
     "output_type": "execute_result"
    }
   ],
   "source": [
    "tf.reduce_sum(3)"
   ]
  },
  {
   "cell_type": "code",
   "execution_count": 12,
   "metadata": {},
   "outputs": [
    {
     "name": "stdout",
     "output_type": "stream",
     "text": [
      "1.9807614e-05\n"
     ]
    }
   ],
   "source": [
    "print(1.9807614e-05)"
   ]
  },
  {
   "cell_type": "code",
   "execution_count": 14,
   "metadata": {},
   "outputs": [
    {
     "data": {
      "text/plain": [
       "0.037241645055"
      ]
     },
     "execution_count": 14,
     "metadata": {},
     "output_type": "execute_result"
    }
   ],
   "source": [
    "0.037248693*0.001+0.037241638*0.999"
   ]
  }
 ],
 "metadata": {
  "kernelspec": {
   "display_name": "Python 3",
   "language": "python",
   "name": "python3"
  },
  "language_info": {
   "codemirror_mode": {
    "name": "ipython",
    "version": 3
   },
   "file_extension": ".py",
   "mimetype": "text/x-python",
   "name": "python",
   "nbconvert_exporter": "python",
   "pygments_lexer": "ipython3",
   "version": "3.5.2"
  }
 },
 "nbformat": 4,
 "nbformat_minor": 2
}
