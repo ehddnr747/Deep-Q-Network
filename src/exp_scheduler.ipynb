{
 "cells": [
  {
   "cell_type": "code",
   "execution_count": 1,
   "metadata": {},
   "outputs": [],
   "source": [
    "from dm_control import suite"
   ]
  },
  {
   "cell_type": "code",
   "execution_count": 2,
   "metadata": {},
   "outputs": [],
   "source": [
    "import subprocess\n",
    "from multiprocessing import Pool"
   ]
  },
  {
   "cell_type": "code",
   "execution_count": 3,
   "metadata": {},
   "outputs": [],
   "source": [
    "domain_task_pairs = [\n",
    "    ('cartpole','balance'),\n",
    "    ('cartpole','swingup'),\n",
    "    ('ball_in_cup', 'catch'),\n",
    "    ('cheetah', 'run'),\n",
    "    ('finger', 'spin'),\n",
    "    ('walker', 'run')    \n",
    "]\n",
    "\n",
    "control_stepsizes = [1,2,4,8,16]"
   ]
  },
  {
   "cell_type": "code",
   "execution_count": null,
   "metadata": {},
   "outputs": [],
   "source": [
    "cmds = []\n",
    "\n",
    "for c_ in control_stepsizes:\n",
    "    for d_, t_ in domain_task_pairs:\n",
    "        cmds.append(\n",
    "            r'python baseline_ddpg.py --domain='+str(d_)+r' --task='+str(t_)+r' --control_stepsize='+str(c_)\n",
    "        )"
   ]
  },
  {
   "cell_type": "code",
   "execution_count": null,
   "metadata": {},
   "outputs": [],
   "source": [
    "def spawn(cmd):\n",
    "    print(cmd, \"start\")\n",
    "    pid = subprocess.Popen(cmd,shell=True)\n",
    "    pid.wait()\n",
    "    print(cmd, \"finish\")"
   ]
  },
  {
   "cell_type": "code",
   "execution_count": null,
   "metadata": {},
   "outputs": [
    {
     "name": "stdout",
     "output_type": "stream",
     "text": [
      "python baseline_ddpg.py --domain=cartpole --task=balance --control_stepsize=1 start\n",
      "python baseline_ddpg.py --domain=cartpole --task=swingup --control_stepsize=1 start\n",
      "python baseline_ddpg.py --domain=walker --task=run --control_stepsize=1 start\n",
      "python baseline_ddpg.py --domain=finger --task=spin --control_stepsize=1 start\n",
      "python baseline_ddpg.py --domain=ball_in_cup --task=catch --control_stepsize=1 start\n",
      "python baseline_ddpg.py --domain=cheetah --task=run --control_stepsize=1 start\n"
     ]
    }
   ],
   "source": [
    "pool = Pool(6)\n",
    "pool.map_async(spawn,cmds,chunksize=1).get(9999999)"
   ]
  }
 ],
 "metadata": {
  "kernelspec": {
   "display_name": "Python 3",
   "language": "python",
   "name": "python3"
  },
  "language_info": {
   "codemirror_mode": {
    "name": "ipython",
    "version": 3
   },
   "file_extension": ".py",
   "mimetype": "text/x-python",
   "name": "python",
   "nbconvert_exporter": "python",
   "pygments_lexer": "ipython3",
   "version": "3.5.2"
  }
 },
 "nbformat": 4,
 "nbformat_minor": 2
}
